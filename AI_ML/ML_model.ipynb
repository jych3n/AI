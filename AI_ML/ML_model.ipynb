{
  "cells": [
    {
      "cell_type": "markdown",
      "metadata": {
        "id": "J1PbORq7ZHIS"
      },
      "source": [
        "# Demo: \n",
        "## Machine learning models\n",
        "\n"
      ]
    },
    {
      "cell_type": "code",
      "execution_count": 1,
      "metadata": {
        "id": "htnnUGJYZHIY"
      },
      "outputs": [],
      "source": [
        "import pandas as pd\n",
        "import numpy as np\n",
        "import matplotlib.pyplot as plt\n",
        "# the following line allows ipython to display plots\n",
        "%matplotlib inline  "
      ]
    },
    {
      "cell_type": "markdown",
      "metadata": {
        "id": "vMpFLIdQZHIb"
      },
      "source": [
        "`cars.csv` is in an easy-to-read comma separated format and the following *pandas* functionality makes it easy to read it into a `DataFrame` object. "
      ]
    },
    {
      "cell_type": "code",
      "execution_count": 3,
      "metadata": {
        "colab": {
          "base_uri": "https://localhost:8080/"
        },
        "id": "AiBc6Bw3ZHIb",
        "outputId": "be7b6b0c-b5a8-4b45-85d9-df57350d7e05"
      },
      "outputs": [
        {
          "name": "stdout",
          "output_type": "stream",
          "text": [
            "                         Car   MPG  Cylinders  Displacement  Horsepower  \\\n",
            "0  Chevrolet Chevelle Malibu  18.0          8         307.0         130   \n",
            "1          Buick Skylark 320  15.0          8         350.0         165   \n",
            "2         Plymouth Satellite  18.0          8         318.0         150   \n",
            "3              AMC Rebel SST  16.0          8         304.0         150   \n",
            "4                Ford Torino  17.0          8         302.0         140   \n",
            "\n",
            "   Weight  Acceleration  Model Origin  \n",
            "0    3504          12.0     70     US  \n",
            "1    3693          11.5     70     US  \n",
            "2    3436          11.0     70     US  \n",
            "3    3433          12.0     70     US  \n",
            "4    3449          10.5     70     US  \n"
          ]
        }
      ],
      "source": [
        "# read this csv file, remember to put the full path to \n",
        "# the directory where you saved the data\n",
        "df = pd.read_csv('D:\\Rowan\\AI_ML\\cars.csv')  # df is DataFrame object\n",
        "print (df.head())    # see the first 5 rows of the loaded table"
      ]
    },
    {
      "cell_type": "code",
      "execution_count": 4,
      "metadata": {
        "colab": {
          "base_uri": "https://localhost:8080/"
        },
        "id": "0vK1ZUOHbXqG",
        "outputId": "bcea1b8a-be8b-4b6c-f0ac-f4c7825e2c04"
      },
      "outputs": [
        {
          "name": "stdout",
          "output_type": "stream",
          "text": [
            "Data type: \n",
            "Car              object\n",
            "MPG             float64\n",
            "Cylinders         int64\n",
            "Displacement    float64\n",
            "Horsepower        int64\n",
            "Weight            int64\n",
            "Acceleration    float64\n",
            "Model             int64\n",
            "Origin           object\n",
            "dtype: object\n"
          ]
        }
      ],
      "source": [
        "print (\"Data type: \") \n",
        "print (df.dtypes ) "
      ]
    },
    {
      "cell_type": "markdown",
      "metadata": {
        "id": "r-XqCyMqZHIo"
      },
      "source": [
        "Scatterplot between MPG and Weight attributes:"
      ]
    },
    {
      "cell_type": "code",
      "execution_count": 5,
      "metadata": {
        "colab": {
          "base_uri": "https://localhost:8080/",
          "height": 242
        },
        "id": "xc_y8La3ZHIo",
        "outputId": "1a14e2cd-2365-4897-a5fe-df50a467f4ee"
      },
      "outputs": [
        {
          "data": {
            "text/plain": [
              "Text(0, 0.5, 'weight')"
            ]
          },
          "execution_count": 5,
          "metadata": {},
          "output_type": "execute_result"
        },
        {
          "data": {
            "image/png": "[encoded data removed]",
            "text/plain": [
              "<Figure size 360x216 with 1 Axes>"
            ]
          },
          "metadata": {
            "needs_background": "light"
          },
          "output_type": "display_data"
        }
      ],
      "source": [
        "plt.figure(figsize=(5,3))\n",
        "plt.scatter(df['MPG'],df['Weight'], color='blue', alpha=0.2);\n",
        "plt.xlabel(\"MPG\")\n",
        "plt.ylabel(\"weight\")"
      ]
    },
    {
      "cell_type": "code",
      "execution_count": null,
      "metadata": {},
      "outputs": [],
      "source": []
    },
    {
      "cell_type": "markdown",
      "metadata": {
        "id": "nnGEAAOKOWBT"
      },
      "source": []
    },
    {
      "cell_type": "code",
      "execution_count": null,
      "metadata": {
        "id": "Zv6G8qfo4ODL"
      },
      "outputs": [],
      "source": []
    },
    {
      "cell_type": "code",
      "execution_count": 7,
      "metadata": {
        "id": "Dp3my2ZO7oeQ"
      },
      "outputs": [],
      "source": [
        "from sklearn.linear_model import LogisticRegression\n",
        "from sklearn.metrics import confusion_matrix\n",
        "from sklearn.metrics import accuracy_score\n",
        "from sklearn.metrics import roc_auc_score\n",
        "from sklearn.model_selection import train_test_split\n",
        "from sklearn.tree import DecisionTreeClassifier\n",
        "from sklearn.linear_model import LinearRegression\n",
        "\n",
        "'''\n",
        "df.loc[df['Origin'] == 'Japan', 'label'] = 1  \n",
        "df.loc[df['Origin'] == 'Europe', 'label'] = 2 \n",
        "df.loc[df['Origin'] == 'US', 'label'] = 3 \n",
        "\n",
        "print ( df['label'].value_counts(ascending=True) )\n",
        "print (\"Baseline accuracy: \")\n",
        "print (254/(73+79+254))  # 0.62\n",
        "# D tree is fine with this\n",
        "'''\n",
        "\n",
        "df.loc[df['Origin'] != 'US', 'label'] = int(0) \n",
        "df.loc[df['Origin'] == 'US', 'label'] = int(1)\n",
        "\n",
        "\n",
        "data = df[['MPG', 'Cylinders', 'Displacement', 'Horsepower', 'Weight', 'Acceleration', 'Model', 'label' ]]\n",
        "X_train, X_test = train_test_split( data ,test_size=0.1, random_state=42)\n",
        "\n",
        "train_bags   = X_train[ [ 'MPG', 'Cylinders', 'Horsepower', 'Weight'] ]\n",
        "train_labels =  X_train[ ['label'] ]\n",
        "\n",
        "test_bags   = X_test[ [ 'MPG', 'Cylinders', 'Horsepower', 'Weight'] ]\n",
        "test_labels = X_test[ ['label'] ]\n",
        "\n",
        "\n",
        "\n",
        "\n"
      ]
    },
    {
      "cell_type": "code",
      "execution_count": 8,
      "metadata": {
        "colab": {
          "base_uri": "https://localhost:8080/"
        },
        "id": "fdfED_fGF2VP",
        "outputId": "9640bb7d-5bf4-4464-c24f-0b0a23e2468f"
      },
      "outputs": [
        {
          "name": "stdout",
          "output_type": "stream",
          "text": [
            "      MPG  Cylinders  Horsepower  Weight\n",
            "318  32.1          4          70    2120\n",
            "140  16.0          6         100    3781\n",
            "114  18.0          6         100    2789\n",
            "     label\n",
            "318    1.0\n",
            "140    1.0\n",
            "114    1.0\n"
          ]
        }
      ],
      "source": [
        "print (train_bags[:3])  # check first three data\n",
        "print (train_labels[:3])  # check first three data"
      ]
    },
    {
      "cell_type": "code",
      "execution_count": 9,
      "metadata": {
        "colab": {
          "base_uri": "https://localhost:8080/"
        },
        "id": "cgGMVJmEHIAX",
        "outputId": "cbf75236-2bf1-4185-9f8d-3f8ba4e2d851"
      },
      "outputs": [
        {
          "name": "stdout",
          "output_type": "stream",
          "text": [
            "Showing data labels: \n",
            "0.0    152\n",
            "1.0    254\n",
            "Name: label, dtype: int64\n"
          ]
        }
      ],
      "source": [
        "print (\"Showing data labels: \")\n",
        "print ( df['label'].value_counts(ascending=True) )\n"
      ]
    },
    {
      "cell_type": "code",
      "execution_count": 10,
      "metadata": {
        "colab": {
          "base_uri": "https://localhost:8080/"
        },
        "id": "Y26ZYaq6HbR7",
        "outputId": "4e538b30-ec59-4fb3-ca4d-4f63996657ff"
      },
      "outputs": [
        {
          "name": "stdout",
          "output_type": "stream",
          "text": [
            "Baseline accuracy: \n",
            "0.625615763546798\n"
          ]
        }
      ],
      "source": [
        "print (\"Baseline accuracy: \")\n",
        "print (254/(254+152))"
      ]
    },
    {
      "cell_type": "code",
      "execution_count": 11,
      "metadata": {
        "colab": {
          "base_uri": "https://localhost:8080/"
        },
        "id": "-Js92GXkFpk5",
        "outputId": "3241058e-dfc0-404b-e03d-dcbd409b1e2a"
      },
      "outputs": [
        {
          "name": "stdout",
          "output_type": "stream",
          "text": [
            "Model: Linear regression\n",
            "Accuracy:0.8049\n"
          ]
        }
      ],
      "source": [
        "print (\"Model: Linear regression\")\n",
        "reg = LinearRegression()\n",
        "reg.fit(train_bags, train_labels)\n",
        "predictions = reg.predict( test_bags )\n",
        "prediction_label = [1 if x>0.7 else 0 for x in predictions ]\n",
        "print (\"Accuracy:\" + str ( round( accuracy_score(test_labels, prediction_label) , 4) ) ) \n"
      ]
    },
    {
      "cell_type": "code",
      "execution_count": 12,
      "metadata": {
        "colab": {
          "base_uri": "https://localhost:8080/"
        },
        "id": "lq2ZG7aDH7xs",
        "outputId": "16c22592-3935-4cbd-b3d1-295bb2f6223e"
      },
      "outputs": [
        {
          "name": "stdout",
          "output_type": "stream",
          "text": [
            "*************************\n",
            "Model: Decision Tree\n",
            "Accuracy:0.7805\n"
          ]
        }
      ],
      "source": [
        "print (\"*\" * 25)\n",
        "print (\"Model: Decision Tree\")\n",
        "dTree = DecisionTreeClassifier( )         #max_depth= 5\n",
        "dTree.fit(train_bags, train_labels)\n",
        "predictions = dTree.predict(test_bags)\n",
        "print (\"Accuracy:\" + str ( round( accuracy_score(test_labels, predictions) , 4) ) ) "
      ]
    },
    {
      "cell_type": "markdown",
      "metadata": {
        "id": "ZX57Wh4hKjMX"
      },
      "source": [
        "**Questions:**\n",
        "\n",
        "1) Run the models including other attributes and report the result.\n",
        "\n",
        "2) Do you see any improvements? Explain the reasons behind the results.\n",
        "\n",
        "3) Do you have any other suggestions to improve the model accuracy?\n",
        "\n",
        "4) Run any other classifier method (i.e. random forest) and report the result with explanation. \n",
        "\n",
        "5) Do you think neural network would be a good model for this problem? Justify your answer.\n"
      ]
    }
  ],
  "metadata": {
    "anaconda-cloud": {},
    "colab": {
      "collapsed_sections": [],
      "name": "ML model.ipynb",
      "provenance": []
    },
    "interpreter": {
      "hash": "4eaf1be304415beee96765ae99c3f893cc8312c7f1196698e6029668e9aeb3e5"
    },
    "kernelspec": {
      "display_name": "Python 3.9.7 64-bit",
      "name": "python3"
    },
    "language_info": {
      "codemirror_mode": {
        "name": "ipython",
        "version": 3
      },
      "file_extension": ".py",
      "mimetype": "text/x-python",
      "name": "python",
      "nbconvert_exporter": "python",
      "pygments_lexer": "ipython3",
      "version": "3.9.7"
    }
  },
  "nbformat": 4,
  "nbformat_minor": 0
}
